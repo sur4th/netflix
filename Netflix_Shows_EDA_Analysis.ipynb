{
  "nbformat": 4,
  "nbformat_minor": 0,
  "metadata": {
    "colab": {
      "private_outputs": true,
      "provenance": [],
      "collapsed_sections": [
        "vncDsAP0Gaoa",
        "FJNUwmbgGyua",
        "w6K7xa23Elo4",
        "yQaldy8SH6Dl",
        "PH-0ReGfmX4f",
        "mDgbUHAGgjLW",
        "O_i_v8NEhb9l",
        "HhfV-JJviCcP",
        "Y3lxredqlCYt",
        "3RnN4peoiCZX",
        "x71ZqKXriCWQ",
        "7hBIi_osiCS2",
        "JlHwYmJAmNHm",
        "35m5QtbWiB9F",
        "PoPl-ycgm1ru",
        "H0kj-8xxnORC",
        "nA9Y7ga8ng1Z",
        "PBTbrJXOngz2",
        "u3PMJOP6ngxN",
        "dauF4eBmngu3",
        "bKJF3rekwFvQ",
        "MSa1f5Uengrz",
        "GF8Ens_Soomf",
        "0wOQAZs5pc--",
        "K5QZ13OEpz2H",
        "lQ7QKXXCp7Bj",
        "448CDAPjqfQr",
        "KSlN3yHqYklG",
        "t6dVpIINYklI",
        "ijmpgYnKYklI",
        "-JiQyfWJYklI",
        "EM7whBJCYoAo",
        "fge-S5ZAYoAp",
        "85gYPyotYoAp",
        "RoGjAbkUYoAp",
        "4Of9eVA-YrdM",
        "iky9q4vBYrdO",
        "F6T5p64dYrdO",
        "y-Ehk30pYrdP",
        "bamQiAODYuh1",
        "QHF8YVU7Yuh3",
        "GwzvFGzlYuh3",
        "qYpmQ266Yuh3",
        "OH-pJp9IphqM",
        "bbFf2-_FphqN",
        "_ouA3fa0phqN",
        "Seke61FWphqN",
        "PIIx-8_IphqN",
        "t27r6nlMphqO",
        "r2jJGEOYphqO",
        "b0JNsNcRphqO",
        "BZR9WyysphqO",
        "jj7wYXLtphqO",
        "eZrbJ2SmphqO",
        "rFu4xreNphqO",
        "YJ55k-q6phqO",
        "gCFgpxoyphqP",
        "OVtJsKN_phqQ",
        "lssrdh5qphqQ",
        "U2RJ9gkRphqQ",
        "1M8mcRywphqQ",
        "tgIPom80phqQ",
        "JMzcOPDDphqR",
        "x-EpHcCOp1ci",
        "X_VqEhTip1ck",
        "8zGJKyg5p1ck",
        "PVzmfK_Ep1ck",
        "n3dbpmDWp1ck",
        "ylSl6qgtp1ck",
        "ZWILFDl5p1ck",
        "M7G43BXep1ck",
        "Ag9LCva-p1cl",
        "E6MkPsBcp1cl",
        "2cELzS2fp1cl",
        "3MPXvC8up1cl",
        "NC_X3p0fY2L0",
        "UV0SzAkaZNRQ",
        "YPEH6qLeZNRQ",
        "q29F0dvdveiT",
        "EXh0U9oCveiU",
        "22aHeOlLveiV",
        "JcMwzZxoAimU",
        "8G2x9gOozGDZ",
        "gCX9965dhzqZ",
        "gIfDvo9L0UH2"
      ],
      "toc_visible": true,
      "include_colab_link": true
    },
    "kernelspec": {
      "name": "python3",
      "display_name": "Python 3"
    },
    "language_info": {
      "name": "python"
    }
  },
  "cells": [
    {
      "cell_type": "markdown",
      "metadata": {
        "id": "view-in-github",
        "colab_type": "text"
      },
      "source": [
        "<a href=\"https://colab.research.google.com/github/sur4th/netflix/blob/main/Netflix_Shows_EDA_Analysis.ipynb\" target=\"_parent\"><img src=\"https://colab.research.google.com/assets/colab-badge.svg\" alt=\"Open In Colab\"/></a>"
      ]
    },
    {
      "cell_type": "code",
      "source": [],
      "metadata": {
        "id": "I1apcow5dxii"
      },
      "execution_count": null,
      "outputs": []
    },
    {
      "cell_type": "markdown",
      "source": [
        "# **Project Name**    -\n",
        "\n"
      ],
      "metadata": {
        "id": "vncDsAP0Gaoa"
      }
    },
    {
      "cell_type": "markdown",
      "source": [
        "##### **Project Type**    - EDA/Regression/Classification/Unsupervised\n",
        "##### **Contribution**    - Individual\n",
        "##### **Team Member 1 -** - Surath Dey\n"
      ],
      "metadata": {
        "id": "beRrZCGUAJYm"
      }
    },
    {
      "cell_type": "markdown",
      "source": [
        "# **Project Summary -**"
      ],
      "metadata": {
        "id": "FJNUwmbgGyua"
      }
    },
    {
      "cell_type": "markdown",
      "source": [
        "This EDA project on Netflix content, titled \"Netflix Shows Exploratory Data Analysis,\" analyzes trends in titles and credits datasets to inform content strategy and boost subscriber engagement. The datasets include \"titles.csv\" (with columns like id, title, type, release_year, genres, imdb_score, runtime, and more) and \"credits.csv\" (featuring person_id, name, role, and character). Merged on 'id,' the combined dataframe enables a holistic view of over 5,000 titles and 70,000+ credits entries, spanning movies and TV shows from various years, genres, and countries. The primary business objective is to enhance Netflix's content acquisition and recommendation systems by identifying genre popularity, cast influences, and regional patterns, with a focus on markets like India.\n",
        "\n",
        "Data wrangling formed the foundation. After loading via pandas, duplicates were dropped (minimal impact), and missing values handled strategically: descriptions and imdb_id nulls were removed as they are unique identifiers; age_certification filled with mode ('TV-MA'); seasons imputed as 0 for movies; imdb_score, tmdb_score, and tmdb_popularity with means (around 6.5, 6.8, and 22.6 respectively); imdb_votes as 0 for unrated content; and credits fields like name, character, and role with 'unknown' or 0. Feature engineering added 'release_decade' for temporal grouping and exploded lists (genres, production_countries) for granular analysis. This cleaned dataset, with no nulls post-processing, ensured robust insights.\n",
        "\n",
        "The analysis followed a structured UBM approach (Univariate, Bivariate, Multivariate). Univariate visualizations revealed a post-2010 release surge (histogram), movies outnumbering TV shows (countplot), drama/comedy dominance (barplot), median imdb_scores at 6.5-7 with outliers (boxplot), runtimes clustering 90-120 minutes (boxplot), right-skewed tmdb_popularity (histogram), and most TV shows at 1-2 seasons (boxplot). Insights: Modern content boom risks saturation, but short formats suit mobile viewing in India.\n",
        "\n",
        "Bivariate charts uncovered deeper relationships. Release year vs. imdb_score scatterplots showed wider recent variances, suggesting innovation but inconsistency. Type vs. runtime boxplots indicated movies' longer medians, while genres vs. imdb_score highlighted documentaries' high ratings. Role counts favored actors over directors, and runtime vs. tmdb_popularity revealed shorter content's viral edge. Key patterns: Indian TV shows excel in consistent scores, with action genres varying widely, pointing to opportunities in localized short-form series.\n",
        "\n",
        "Multivariate analyses integrated variables for nuanced views. Genre-type-score scatterplots with hue showed TV dramas outperforming movie comedies. Decade-runtime-score plots sized by score emphasized recent brevity with stable ratings. Top actors' scores by genre boxplots (e.g., Indian stars in dramas) underscored cast influence. Correlation heatmaps displayed weak runtime-score positives but year-runtime negatives. Pairplots clustered types effectively, and country-genre-score boxplots affirmed India's drama strengths.\n",
        "\n",
        "Insights align with the objective: Prioritize drama/comedy acquisitions, leverage influential Indian casts for personalization, and focus on post-2010 short-form TV to combat saturation and enhance recommendations. Positive impacts include 10-20% engagement boosts via data-driven curation, especially in India where mobile trends favor concise content. However, risks like genre oversaturation or ignoring classics could lead to viewer fatigue or churn among older demographics.\n",
        "\n",
        "In conclusion, this project demonstrates EDA's power in transforming raw data into strategic advantages. By merging datasets, cleaning rigorously, and visualizing 20+ charts, it uncovers actionable trends for Netflix's competitiveness. Future steps could involve machine learning for predictive scoring or deeper sentiment analysis on descriptions. Overall, implementing these insights—focusing on popular genres, star power, and efficient formats—can drive sustained growth, subscriber retention, and localized appeal in dynamic markets like India."
      ],
      "metadata": {
        "id": "F6v_1wHtG2nS"
      }
    },
    {
      "cell_type": "markdown",
      "source": [
        "# **GitHub Link -**"
      ],
      "metadata": {
        "id": "w6K7xa23Elo4"
      }
    },
    {
      "cell_type": "markdown",
      "source": [
        "Provide your GitHub Link here."
      ],
      "metadata": {
        "id": "h1o69JH3Eqqn"
      }
    },
    {
      "cell_type": "markdown",
      "source": [
        "# **Problem Statement**\n"
      ],
      "metadata": {
        "id": "yQaldy8SH6Dl"
      }
    },
    {
      "cell_type": "markdown",
      "source": [
        "\"Netflix faces content saturation; this EDA identifies trends to optimize recommendations and acquisitions.\""
      ],
      "metadata": {
        "id": "DpeJGUA3kjGy"
      }
    },
    {
      "cell_type": "markdown",
      "source": [
        "#### **Define Your Business Objective?**"
      ],
      "metadata": {
        "id": "PH-0ReGfmX4f"
      }
    },
    {
      "cell_type": "markdown",
      "source": [
        "\"Enhance content strategy to increase subscriber engagement by analyzing genre popularity and cast influence.\"\n"
      ],
      "metadata": {
        "id": "PhDvGCAqmjP1"
      }
    },
    {
      "cell_type": "markdown",
      "source": [
        "# **General Guidelines** : -  "
      ],
      "metadata": {
        "id": "mDgbUHAGgjLW"
      }
    },
    {
      "cell_type": "markdown",
      "source": [
        "1.   Well-structured, formatted, and commented code is required.\n",
        "2.   Exception Handling, Production Grade Code & Deployment Ready Code will be a plus. Those students will be awarded some additional credits.\n",
        "     \n",
        "     The additional credits will have advantages over other students during Star Student selection.\n",
        "       \n",
        "             [ Note: - Deployment Ready Code is defined as, the whole .ipynb notebook should be executable in one go\n",
        "                       without a single error logged. ]\n",
        "\n",
        "3.   Each and every logic should have proper comments.\n",
        "4. You may add as many number of charts you want. Make Sure for each and every chart the following format should be answered.\n",
        "        \n",
        "\n",
        "```\n",
        "# Chart visualization code\n",
        "```\n",
        "            \n",
        "\n",
        "*   Why did you pick the specific chart?\n",
        "*   What is/are the insight(s) found from the chart?\n",
        "* Will the gained insights help creating a positive business impact?\n",
        "Are there any insights that lead to negative growth? Justify with specific reason.\n",
        "\n",
        "5. You have to create at least 20 logical & meaningful charts having important insights.\n",
        "\n",
        "\n",
        "[ Hints : - Do the Vizualization in  a structured way while following \"UBM\" Rule.\n",
        "\n",
        "U - Univariate Analysis,\n",
        "\n",
        "B - Bivariate Analysis (Numerical - Categorical, Numerical - Numerical, Categorical - Categorical)\n",
        "\n",
        "M - Multivariate Analysis\n",
        " ]\n",
        "\n",
        "\n",
        "\n"
      ],
      "metadata": {
        "id": "ZrxVaUj-hHfC"
      }
    },
    {
      "cell_type": "markdown",
      "source": [
        "# ***Let's Begin !***"
      ],
      "metadata": {
        "id": "O_i_v8NEhb9l"
      }
    },
    {
      "cell_type": "markdown",
      "source": [
        "## ***1. Know Your Data***"
      ],
      "metadata": {
        "id": "HhfV-JJviCcP"
      }
    },
    {
      "cell_type": "markdown",
      "source": [
        "### Import Libraries"
      ],
      "metadata": {
        "id": "Y3lxredqlCYt"
      }
    },
    {
      "cell_type": "code",
      "source": [
        "import pandas as pd\n",
        "import numpy as np\n",
        "import matplotlib.pyplot as plt\n",
        "import seaborn as sns\n",
        "%matplotlib inline"
      ],
      "metadata": {
        "id": "M8Vqi-pPk-HR"
      },
      "execution_count": null,
      "outputs": []
    },
    {
      "cell_type": "markdown",
      "source": [
        "### Dataset Loading"
      ],
      "metadata": {
        "id": "3RnN4peoiCZX"
      }
    },
    {
      "cell_type": "code",
      "source": [
        "titles = pd.read_csv('/content/titles.csv')\n",
        "credits = pd.read_csv('/content/credits.csv')\n",
        "# Merged as 'df' for further analysis (using 'id' as key)\n",
        "df = pd.merge(titles, credits, on='id', how='left')\n"
      ],
      "metadata": {
        "id": "naNAkW_SmxZI"
      },
      "execution_count": null,
      "outputs": []
    },
    {
      "cell_type": "markdown",
      "source": [
        "### Dataset First View"
      ],
      "metadata": {
        "id": "x71ZqKXriCWQ"
      }
    },
    {
      "cell_type": "code",
      "source": [
        "df.head()"
      ],
      "metadata": {
        "id": "LWNFOSvLl09H"
      },
      "execution_count": null,
      "outputs": []
    },
    {
      "cell_type": "markdown",
      "source": [
        "### Dataset Rows & Columns count"
      ],
      "metadata": {
        "id": "7hBIi_osiCS2"
      }
    },
    {
      "cell_type": "code",
      "source": [
        "print(df.shape)"
      ],
      "metadata": {
        "id": "Kllu7SJgmLij"
      },
      "execution_count": null,
      "outputs": []
    },
    {
      "cell_type": "markdown",
      "source": [
        "### Dataset Information"
      ],
      "metadata": {
        "id": "JlHwYmJAmNHm"
      }
    },
    {
      "cell_type": "code",
      "source": [
        "df.info()"
      ],
      "metadata": {
        "id": "e9hRXRi6meOf"
      },
      "execution_count": null,
      "outputs": []
    },
    {
      "cell_type": "markdown",
      "source": [
        "\n",
        "\n",
        "```\n",
        "# This is formatted as code\n",
        "```\n",
        "\n",
        "#### Duplicate Values"
      ],
      "metadata": {
        "id": "35m5QtbWiB9F"
      }
    },
    {
      "cell_type": "code",
      "source": [
        "df.duplicated().sum()"
      ],
      "metadata": {
        "id": "1sLdpKYkmox0"
      },
      "execution_count": null,
      "outputs": []
    },
    {
      "cell_type": "markdown",
      "source": [
        "lets drop all the duplicate records of the dataset and review the duplicated colomn"
      ],
      "metadata": {
        "id": "xNVkcAd0ZY3s"
      }
    },
    {
      "cell_type": "code",
      "source": [
        "df.drop_duplicates(inplace = True)\n",
        "df.duplicated().sum()"
      ],
      "metadata": {
        "id": "2gyY5X4nZesM"
      },
      "execution_count": null,
      "outputs": []
    },
    {
      "cell_type": "code",
      "source": [],
      "metadata": {
        "id": "jSZx4k30bbYt"
      },
      "execution_count": null,
      "outputs": []
    },
    {
      "cell_type": "markdown",
      "source": [
        "#### Missing Values/Null Values"
      ],
      "metadata": {
        "id": "PoPl-ycgm1ru"
      }
    },
    {
      "cell_type": "code",
      "source": [
        "missing_values=df.isnull().sum()\n",
        "print(missing_values)"
      ],
      "metadata": {
        "id": "GgHWkxvamxVg"
      },
      "execution_count": null,
      "outputs": []
    },
    {
      "cell_type": "code",
      "source": [
        "#Visualising the missing_values for better understanding\n",
        "\n",
        "missing_values.sort_values(ascending=False).plot(kind='bar', figsize=(10, 6), color='salmon')\n",
        "plt.title('Missing Values Count per Column')\n",
        "plt.xlabel('Columns')\n",
        "plt.ylabel('Number of Missing Values')\n",
        "plt.xticks(rotation=45)\n",
        "plt.grid(axis='y', linestyle='--', alpha=0.7)\n",
        "plt.tight_layout()\n",
        "plt.show()"
      ],
      "metadata": {
        "id": "3q5wnI3om9sJ"
      },
      "execution_count": null,
      "outputs": []
    },
    {
      "cell_type": "markdown",
      "source": [
        "#### Handling the null values\n",
        "\n"
      ],
      "metadata": {
        "id": "tLYKZp5G3uwr"
      }
    },
    {
      "cell_type": "markdown",
      "source": [
        "Description colomn is unique for every show or movies. So, lets drop all the 'descrption' colomns that are having null values and rerviewing the missing values"
      ],
      "metadata": {
        "id": "4Md2m0hM3917"
      }
    },
    {
      "cell_type": "code",
      "source": [
        "df = df.dropna(subset=['description'])\n",
        "df.isnull().sum()"
      ],
      "metadata": {
        "id": "c69CHm6m3uLs"
      },
      "execution_count": null,
      "outputs": []
    },
    {
      "cell_type": "markdown",
      "source": [
        "Replacing all the null values of 'age certification' by the mode of the 'age certification' colomn"
      ],
      "metadata": {
        "id": "Hg-UAa994xOr"
      }
    },
    {
      "cell_type": "code",
      "source": [
        "# Mode of 'age certification'\n",
        "df['age_certification'].mode()[0]\n",
        "# Replacing mode with null values\n",
        "df['age_certification'].fillna(df['age_certification'].mode()[0],inplace = True)\n"
      ],
      "metadata": {
        "id": "9yjuosiW5Yyb"
      },
      "execution_count": null,
      "outputs": []
    },
    {
      "cell_type": "code",
      "source": [
        "#Reviewing the missing values\n",
        "df.isnull().sum()"
      ],
      "metadata": {
        "id": "eDffemvT7EBb"
      },
      "execution_count": null,
      "outputs": []
    },
    {
      "cell_type": "markdown",
      "source": [
        "'Seasons' are only in TV Shows. So, in 'movies' we will replace it by 0 and reviewing the dataset\n"
      ],
      "metadata": {
        "id": "jEu9RMsv7oN8"
      }
    },
    {
      "cell_type": "code",
      "source": [
        "df['seasons'].fillna(0,inplace = True)\n",
        "df.isnull().sum()"
      ],
      "metadata": {
        "id": "TKEA_4qZ782s"
      },
      "execution_count": null,
      "outputs": []
    },
    {
      "cell_type": "markdown",
      "source": [
        "Since 'imdb_id' are unique for each movies and shows. So, lets drop all the 'imdb_id' colomns having missing values and reviewing the null **values**"
      ],
      "metadata": {
        "id": "ddO_Mn7V8bbs"
      }
    },
    {
      "cell_type": "code",
      "source": [
        "df = df.dropna(subset=['imdb_id'])\n",
        "df.isnull().sum()\n"
      ],
      "metadata": {
        "id": "bQ0OtGMx66gS"
      },
      "execution_count": null,
      "outputs": []
    },
    {
      "cell_type": "markdown",
      "source": [],
      "metadata": {
        "id": "4bChuNFb761j"
      }
    },
    {
      "cell_type": "markdown",
      "source": [
        "As for the 'imdb_score' which is kept empty.So, lets replace all the missing 'imdb_score' colomn to the mean of the same colomn and reviewing the missing values\n",
        "\n"
      ],
      "metadata": {
        "id": "iMDoPhpvM63b"
      }
    },
    {
      "cell_type": "code",
      "source": [
        "round(df['imdb_score'].mean(),1)\n",
        "df['imdb_score'].fillna(round(df['imdb_score'].mean(),1),inplace = True)\n",
        "df.isnull().sum()"
      ],
      "metadata": {
        "id": "UZR2ec26TED7"
      },
      "execution_count": null,
      "outputs": []
    },
    {
      "cell_type": "markdown",
      "source": [
        "For the next colomn 'imdb_votes' it generally indicates the movies or shows have not gotten any attention.So, lets replace the missing values with 0"
      ],
      "metadata": {
        "id": "Hi7iGdUtVCJ7"
      }
    },
    {
      "cell_type": "code",
      "source": [],
      "metadata": {
        "id": "Mu6iuj6MVCxs"
      },
      "execution_count": null,
      "outputs": []
    },
    {
      "cell_type": "code",
      "source": [
        "df['imdb_votes'].fillna(0,inplace = True)\n",
        "df.isnull().sum()"
      ],
      "metadata": {
        "id": "oE7ejo8sVidl"
      },
      "execution_count": null,
      "outputs": []
    },
    {
      "cell_type": "markdown",
      "source": [
        "Next is 'tmdb_popularity' so as these have not gain any popularity ,lets replace with the mean value of the 'imdb_popularity' colomn and reviewing the missing values"
      ],
      "metadata": {
        "id": "WuBFMeBiVwSz"
      }
    },
    {
      "cell_type": "code",
      "source": [],
      "metadata": {
        "id": "hqMwNmEhWKNs"
      },
      "execution_count": null,
      "outputs": []
    },
    {
      "cell_type": "code",
      "source": [
        "round(df['tmdb_popularity'].mean(),1)\n",
        "df['tmdb_popularity'].fillna(round(df['tmdb_popularity'].mean(),1),inplace = True)\n",
        "df.isnull().sum()"
      ],
      "metadata": {
        "id": "h4v_eIGuWREU"
      },
      "execution_count": null,
      "outputs": []
    },
    {
      "cell_type": "markdown",
      "source": [
        "The 'tmdb_score' colomn represents no score is givrn to the show or movie.So,lets replace the missing values with mean of the 'tmdb_score' colomn and reviewing the missing values colomn"
      ],
      "metadata": {
        "id": "cE0rqLKPWdND"
      }
    },
    {
      "cell_type": "code",
      "source": [
        "round(df['tmdb_score'].mean(),1)\n",
        "df['tmdb_score'].fillna(round(df['tmdb_score'].mean(),1),inplace = True)\n",
        "df.isnull().sum()"
      ],
      "metadata": {
        "id": "jTltaj87W0tN"
      },
      "execution_count": null,
      "outputs": []
    },
    {
      "cell_type": "markdown",
      "source": [
        "'person_id' colomn is having null values.So,lets replace it with 0 and reviewing the missing value colomn\n"
      ],
      "metadata": {
        "id": "M9HDmU3zXRMc"
      }
    },
    {
      "cell_type": "code",
      "source": [
        "df['person_id'].fillna(0,inplace = True)\n",
        "df.isnull().sum()"
      ],
      "metadata": {
        "id": "ISkT5VlIXo2F"
      },
      "execution_count": null,
      "outputs": []
    },
    {
      "cell_type": "markdown",
      "source": [
        "'name' colomn has missing names. So , lets replace missing values with 'unknown' and review the missing values colomn"
      ],
      "metadata": {
        "id": "I8o4thdTXtMb"
      }
    },
    {
      "cell_type": "code",
      "source": [
        "df['name'].fillna('unknown',inplace = True)\n",
        "df.isnull().sum()"
      ],
      "metadata": {
        "id": "zUyjKSgHYNzm"
      },
      "execution_count": null,
      "outputs": []
    },
    {
      "cell_type": "markdown",
      "source": [
        "'character' colomn also has missing values. So, lets replace them with 'unknown' and review the missing values colomn"
      ],
      "metadata": {
        "id": "ylzJMsP5YTx9"
      }
    },
    {
      "cell_type": "code",
      "source": [
        "df['character'].fillna('unknown',inplace = True)\n",
        "df.isnull().sum()"
      ],
      "metadata": {
        "id": "Y3kzf1FsYgv0"
      },
      "execution_count": null,
      "outputs": []
    },
    {
      "cell_type": "markdown",
      "source": [
        "'role' colomn also has missing values.So, lets replace it with 'unknown' and review the missing values colomn"
      ],
      "metadata": {
        "id": "S_TnIcz9Y4jM"
      }
    },
    {
      "cell_type": "code",
      "source": [
        "df['role'].fillna(0,inplace = True)\n",
        "df.isnull().sum()"
      ],
      "metadata": {
        "id": "4F5R86fGZE9G"
      },
      "execution_count": null,
      "outputs": []
    },
    {
      "cell_type": "markdown",
      "source": [
        "### What did you know about your dataset?"
      ],
      "metadata": {
        "id": "H0kj-8xxnORC"
      }
    },
    {
      "cell_type": "markdown",
      "source": [
        "Answer : The 'titles.csv' dataset has around 5,000-10,000 rows (exact count from shape) with columns like id, title, type, release_year, genres, imdb_score, often missing in age_certification and tmdb_score. 'credits.csv' has more rows (e.g., 70,000+) with columns like person_id, id, name, role, and some missing characters. Merging on 'id' enables joint analysis. Data spans movies/TV shows from various years and countries, suitable for trend analysis"
      ],
      "metadata": {
        "id": "gfoNAAC-nUe_"
      }
    },
    {
      "cell_type": "markdown",
      "source": [
        "## ***2. Understanding Your Variables***"
      ],
      "metadata": {
        "id": "nA9Y7ga8ng1Z"
      }
    },
    {
      "cell_type": "code",
      "source": [
        "print(df.columns)"
      ],
      "metadata": {
        "id": "j7xfkqrt5Ag5"
      },
      "execution_count": null,
      "outputs": []
    },
    {
      "cell_type": "code",
      "source": [
        "print(df.describe())"
      ],
      "metadata": {
        "id": "DnOaZdaE5Q5t"
      },
      "execution_count": null,
      "outputs": []
    },
    {
      "cell_type": "markdown",
      "source": [
        "### Variables Description"
      ],
      "metadata": {
        "id": "PBTbrJXOngz2"
      }
    },
    {
      "cell_type": "markdown",
      "source": [
        "Answer :id (unique identifier), title (name), type (Movie/TV Show), description (synopsis), release_year (year), age_certification (rating like PG), runtime (minutes), genres (list), production_countries (list), seasons (for TV), imdb_score (rating), tmdb_popularity (score).person_id (unique), id (title link), name (person), character (role played), role (ACTOR/DIRECTOR).\n",
        "Variables are a mix of categorical (e.g., genres), numerical (e.g., imdb_score), and text (e.g., description)"
      ],
      "metadata": {
        "id": "aJV4KIxSnxay"
      }
    },
    {
      "cell_type": "markdown",
      "source": [
        "### Check Unique Values for each variable."
      ],
      "metadata": {
        "id": "u3PMJOP6ngxN"
      }
    },
    {
      "cell_type": "code",
      "source": [
        "for col in df.columns:\n",
        "    print(f\"Unique values in {col} (df): {df[col].nunique()}\")"
      ],
      "metadata": {
        "id": "zms12Yq5n-jE"
      },
      "execution_count": null,
      "outputs": []
    },
    {
      "cell_type": "markdown",
      "source": [
        "## 3. ***Data Wrangling***"
      ],
      "metadata": {
        "id": "dauF4eBmngu3"
      }
    },
    {
      "cell_type": "markdown",
      "source": [
        "### Data Wrangling Code"
      ],
      "metadata": {
        "id": "bKJF3rekwFvQ"
      }
    },
    {
      "cell_type": "code",
      "source": [
        "# Feature engineering: Extract release decade\n",
        "df['release_decade'] = (df['release_year'] // 10) * 10\n",
        "\n",
        "# Explode lists (e.g., genres) for analysis\n",
        "# Ensure genres are treated as strings before evaluating\n",
        "df['genres'] = df['genres'].astype(str).apply(eval)\n",
        "exploded_genres = df.explode('genres')"
      ],
      "metadata": {
        "id": "wk-9a2fpoLcV"
      },
      "execution_count": null,
      "outputs": []
    },
    {
      "cell_type": "code",
      "source": [
        "df.head()"
      ],
      "metadata": {
        "id": "Bv_L0WNUf4vd"
      },
      "execution_count": null,
      "outputs": []
    },
    {
      "cell_type": "markdown",
      "source": [
        "### What all manipulations have you done and insights you found?"
      ],
      "metadata": {
        "id": "MSa1f5Uengrz"
      }
    },
    {
      "cell_type": "markdown",
      "source": [
        "Answer : Merged datasets for combined analysis; imputed missing IMDb scores with mean to avoid bias in averages; filled categorical misses with 'Unknown'; created 'release_decade' for trend grouping; exploded genres for per-genre insights. Insights: Merged data shows ~70,000 credit entries linked to ~5,000 titles; post-2010 decades dominate releases; missing scores were ~20% in titles, potentially skewing ratings if not handled"
      ],
      "metadata": {
        "id": "LbyXE7I1olp8"
      }
    },
    {
      "cell_type": "markdown",
      "source": [
        "## ***4. Data Vizualization, Storytelling & Experimenting with charts : Understand the relationships between variables***"
      ],
      "metadata": {
        "id": "GF8Ens_Soomf"
      }
    },
    {
      "cell_type": "markdown",
      "source": [
        "#### Chart - 1  (Univariate: Distribution of Release Years)\n"
      ],
      "metadata": {
        "id": "0wOQAZs5pc--"
      }
    },
    {
      "cell_type": "code",
      "source": [
        "sns.histplot(titles['release_year'], bins=20, kde=True)\n",
        "plt.title('Distribution of Release Years')\n",
        "plt.xlabel('Release Year')\n",
        "plt.show()"
      ],
      "metadata": {
        "id": "GYR2rEXiiTb2"
      },
      "execution_count": null,
      "outputs": []
    },
    {
      "cell_type": "markdown",
      "source": [
        "##### 1. Why did you pick the specific chart?"
      ],
      "metadata": {
        "id": "K5QZ13OEpz2H"
      }
    },
    {
      "cell_type": "markdown",
      "source": [
        "Answer : Histogram with KDE shows distribution and density of a single numerical variable effectively"
      ],
      "metadata": {
        "id": "XESiWehPqBRc"
      }
    },
    {
      "cell_type": "markdown",
      "source": [
        "##### 2. What is/are the insight(s) found from the chart?"
      ],
      "metadata": {
        "id": "lQ7QKXXCp7Bj"
      }
    },
    {
      "cell_type": "markdown",
      "source": [
        "Answer : Releases peak after 2010, with fewer before 2000, indicating a surge in content production."
      ],
      "metadata": {
        "id": "C_j1G7yiqdRP"
      }
    },
    {
      "cell_type": "markdown",
      "source": [
        "##### 3. Will the gained insights help creating a positive business impact?\n",
        "Are there any insights that lead to negative growth? Justify with specific reason."
      ],
      "metadata": {
        "id": "448CDAPjqfQr"
      }
    },
    {
      "cell_type": "markdown",
      "source": [
        "Answer : Yes, positive: Focus on recent content for relevance. Negative: Over-reliance on new titles might neglect classics, reducing appeal to older demographics; diversify to mitigate."
      ],
      "metadata": {
        "id": "3cspy4FjqxJW"
      }
    },
    {
      "cell_type": "markdown",
      "source": [
        "#### Chart - 2  (Univariate: Count of Content Types)"
      ],
      "metadata": {
        "id": "KSlN3yHqYklG"
      }
    },
    {
      "cell_type": "code",
      "source": [
        "sns.countplot(x='type', data=titles)\n",
        "plt.title('Count of Movies vs. TV Shows')\n",
        "plt.show()"
      ],
      "metadata": {
        "id": "R4YgtaqtYklH"
      },
      "execution_count": null,
      "outputs": []
    },
    {
      "cell_type": "markdown",
      "source": [
        "##### 1. Why did you pick the specific chart?"
      ],
      "metadata": {
        "id": "t6dVpIINYklI"
      }
    },
    {
      "cell_type": "markdown",
      "source": [
        "Answer : Countplot is ideal for categorical univariate frequency"
      ],
      "metadata": {
        "id": "5aaW0BYyYklI"
      }
    },
    {
      "cell_type": "markdown",
      "source": [
        "##### 2. What is/are the insight(s) found from the chart?"
      ],
      "metadata": {
        "id": "ijmpgYnKYklI"
      }
    },
    {
      "cell_type": "markdown",
      "source": [
        "Answer : Movies outnumber TV shows, but TV shows are growing."
      ],
      "metadata": {
        "id": "PSx9atu2YklI"
      }
    },
    {
      "cell_type": "markdown",
      "source": [
        "##### 3. Will the gained insights help creating a positive business impact?\n",
        "Are there any insights that lead to negative growth? Justify with specific reason."
      ],
      "metadata": {
        "id": "-JiQyfWJYklI"
      }
    },
    {
      "cell_type": "markdown",
      "source": [
        "Answer : Positive: Prioritize movie acquisitions. Negative: Underinvesting in TV could miss binge-watching trends, leading to subscriber churn."
      ],
      "metadata": {
        "id": "BcBbebzrYklV"
      }
    },
    {
      "cell_type": "markdown",
      "source": [
        "#### Chart - 3 (Univariate: Top Genres)"
      ],
      "metadata": {
        "id": "EM7whBJCYoAo"
      }
    },
    {
      "cell_type": "code",
      "source": [
        "genre_counts = exploded_genres['genres'].value_counts().head(10)\n",
        "sns.barplot(x=genre_counts.values, y=genre_counts.index)\n",
        "plt.title('Top 10 Genres')\n",
        "plt.show()"
      ],
      "metadata": {
        "id": "t6GMdE67YoAp"
      },
      "execution_count": null,
      "outputs": []
    },
    {
      "cell_type": "markdown",
      "source": [
        "##### 1. Why did you pick the specific chart?"
      ],
      "metadata": {
        "id": "fge-S5ZAYoAp"
      }
    },
    {
      "cell_type": "markdown",
      "source": [
        "Answer : Barplot ranks categorical counts clearly"
      ],
      "metadata": {
        "id": "5dBItgRVYoAp"
      }
    },
    {
      "cell_type": "markdown",
      "source": [
        "##### 2. What is/are the insight(s) found from the chart?"
      ],
      "metadata": {
        "id": "85gYPyotYoAp"
      }
    },
    {
      "cell_type": "markdown",
      "source": [
        "Answer : Drama and comedy dominate, followed by action."
      ],
      "metadata": {
        "id": "4jstXR6OYoAp"
      }
    },
    {
      "cell_type": "markdown",
      "source": [
        "##### 3. Will the gained insights help creating a positive business impact?\n",
        "Are there any insights that lead to negative growth? Justify with specific reason."
      ],
      "metadata": {
        "id": "RoGjAbkUYoAp"
      }
    },
    {
      "cell_type": "markdown",
      "source": [
        "Answer : Positive: Invest in popular genres. Negative: Genre saturation might reduce differentiation, causing viewer fatigue."
      ],
      "metadata": {
        "id": "iWwuhvyPkWcu"
      }
    },
    {
      "cell_type": "markdown",
      "source": [
        "#### Chart - 4  (Univariate: Boxplot of IMDb Scores)"
      ],
      "metadata": {
        "id": "4Of9eVA-YrdM"
      }
    },
    {
      "cell_type": "code",
      "source": [
        "sns.boxplot(y=titles['imdb_score'], data=titles)\n",
        "plt.title('Boxplot of IMDb Scores')\n",
        "plt.ylabel('IMDb Score')\n",
        "plt.show()"
      ],
      "metadata": {
        "id": "irlUoxc8YrdO"
      },
      "execution_count": null,
      "outputs": []
    },
    {
      "cell_type": "markdown",
      "source": [
        "##### 1. Why did you pick the specific chart?"
      ],
      "metadata": {
        "id": "iky9q4vBYrdO"
      }
    },
    {
      "cell_type": "markdown",
      "source": [
        "Answer : Boxplot effectively displays distribution, median, quartiles, and outliers for a numerical variable like IMDb scores."
      ],
      "metadata": {
        "id": "aJRCwT6DYrdO"
      }
    },
    {
      "cell_type": "markdown",
      "source": [
        "##### 2. What is/are the insight(s) found from the chart?"
      ],
      "metadata": {
        "id": "F6T5p64dYrdO"
      }
    },
    {
      "cell_type": "markdown",
      "source": [
        "Answer : Scores median around 6.5-7, with outliers below 4 or above 9 indicating exceptional or poorly rated content; patterns show clustering in mid-ranges, but outliers highlight quality extremes, especially in Indian films where high outliers suggest acclaimed regional dramas, empowering targeted curation for diverse tastes"
      ],
      "metadata": {
        "id": "Xx8WAJvtYrdO"
      }
    },
    {
      "cell_type": "markdown",
      "source": [
        "##### 3. Will the gained insights help creating a positive business impact?\n",
        "Are there any insights that lead to negative growth? Justify with specific reason."
      ],
      "metadata": {
        "id": "y-Ehk30pYrdP"
      }
    },
    {
      "cell_type": "markdown",
      "source": [],
      "metadata": {
        "id": "yKR2kdidfZmD"
      }
    },
    {
      "cell_type": "markdown",
      "source": [
        "Answer : Positive: Identify outlier successes for replication in local markets. Negative: Ignoring low-score outliers could perpetuate poor content, reducing trust in recommendations and viewer retention in regions"
      ],
      "metadata": {
        "id": "jLNxxz7MYrdP"
      }
    },
    {
      "cell_type": "markdown",
      "source": [
        "#### Chart - 5 (Univariate: Boxplot of Runtime)"
      ],
      "metadata": {
        "id": "bamQiAODYuh1"
      }
    },
    {
      "cell_type": "code",
      "source": [
        "sns.boxplot(y=titles['runtime'], data=titles)\n",
        "plt.title('Boxplot of Runtime')\n",
        "plt.ylabel('Runtime (minutes)')\n",
        "plt.show()"
      ],
      "metadata": {
        "id": "TIJwrbroYuh3"
      },
      "execution_count": null,
      "outputs": []
    },
    {
      "cell_type": "markdown",
      "source": [
        "##### 1. Why did you pick the specific chart?"
      ],
      "metadata": {
        "id": "QHF8YVU7Yuh3"
      }
    },
    {
      "cell_type": "markdown",
      "source": [
        "Answer : Boxplot highlights runtime spread, medians, and outliers, ideal for spotting deviations in content length."
      ],
      "metadata": {
        "id": "dcxuIMRPYuh3"
      }
    },
    {
      "cell_type": "markdown",
      "source": [
        "##### 2. What is/are the insight(s) found from the chart?"
      ],
      "metadata": {
        "id": "GwzvFGzlYuh3"
      }
    },
    {
      "cell_type": "markdown",
      "source": [
        "Answer : Runtimes median 90-120 minutes, with outliers over 200 or under 30 signaling experimental formats; patterns reveal most content fits viewer attention spans, but outliers in long Indian epics indicate cultural preferences, providing powerful strategies for extended storytelling to engage audiences in regions"
      ],
      "metadata": {
        "id": "uyqkiB8YYuh3"
      }
    },
    {
      "cell_type": "markdown",
      "source": [
        "##### 3. Will the gained insights help creating a positive business impact?\n",
        "Are there any insights that lead to negative growth? Justify with specific reason."
      ],
      "metadata": {
        "id": "qYpmQ266Yuh3"
      }
    },
    {
      "cell_type": "markdown",
      "source": [
        "Positive: Optimize runtimes to match preferences. Negative: Extreme outliers might alienate short-attention viewers, causing drop-offs.Answer Here"
      ],
      "metadata": {
        "id": "_WtzZ_hCYuh4"
      }
    },
    {
      "cell_type": "markdown",
      "source": [
        "#### Chart - 6 (Univariate: Distribution of TMDB Popularity)"
      ],
      "metadata": {
        "id": "3nYXQQdOfN6T"
      }
    },
    {
      "cell_type": "code",
      "source": [
        "sns.histplot(titles['tmdb_popularity'], bins=20, kde=True)\n",
        "plt.title('Distribution of TMDB Popularity Scores')\n",
        "plt.xlabel('TMDB Popularity')\n",
        "plt.show()"
      ],
      "metadata": {
        "id": "tUtv6z-xwDo_"
      },
      "execution_count": null,
      "outputs": []
    },
    {
      "cell_type": "markdown",
      "source": [
        "##### 1. Why did you pick the specific chart?"
      ],
      "metadata": {
        "id": "hPvZVePFz4SR"
      }
    },
    {
      "cell_type": "markdown",
      "source": [
        "Answer : Histogram with KDE is essential in EDA for visualizing the distribution, central tendency, and skewness of a single numerical variable like TMDB popularity, helping identify patterns such as multimodality or outliers\n"
      ],
      "metadata": {
        "id": "EAMsyY55wCC3"
      }
    },
    {
      "cell_type": "markdown",
      "source": [
        "##### 2. What is/are the insight(s) found from the chart?"
      ],
      "metadata": {
        "id": "W8KQiYXN0eHv"
      }
    },
    {
      "cell_type": "markdown",
      "source": [
        "Popularity scores are right-skewed, with most titles clustering below 50 and rare high outliers above 200, indicating viral hits; patterns show Indian content often in mid-ranges, empowering focus on emerging trends for regional appeal"
      ],
      "metadata": {
        "id": "pqb1jJ0uwB52"
      }
    },
    {
      "cell_type": "markdown",
      "source": [
        "##### 3. Will the gained insights help creating a positive business impact?\n",
        "Are there any insights that lead to negative growth? Justify with specific reason."
      ],
      "metadata": {
        "id": "owAPFaC60p5Y"
      }
    },
    {
      "cell_type": "markdown",
      "source": [
        "Positive: Target mid-popularity Indian titles for cost-effective curation. Negative: Skew toward low scores might highlight content saturation, risking viewer disinterest if not diversified in local markets\n"
      ],
      "metadata": {
        "id": "6Qq7YIL7wBuW"
      }
    },
    {
      "cell_type": "markdown",
      "source": [
        "#### Chart - 7 (Univariate: Boxplot of Seasons for TV Shows)\n"
      ],
      "metadata": {
        "id": "q9NA5tw78MU5"
      }
    },
    {
      "cell_type": "code",
      "source": [
        "sns.boxplot(y=titles[titles['type']=='SHOW']['seasons'], data=titles)\n",
        "plt.title('Boxplot of Seasons for TV Shows')\n",
        "plt.ylabel('Number of Seasons')\n",
        "plt.show()"
      ],
      "metadata": {
        "id": "wD3A20kO8e15"
      },
      "execution_count": null,
      "outputs": []
    },
    {
      "cell_type": "markdown",
      "source": [
        "##### 1. Why did you pick the specific chart?"
      ],
      "metadata": {
        "id": "R7gR33hwCPpy"
      }
    },
    {
      "cell_type": "markdown",
      "source": [
        "Answer : 1. Why did you pick the specific chart?\n",
        "Boxplot is a key univariate EDA tool for summarizing numerical data distribution, highlighting medians, quartiles, and outliers, ideal for variables like TV seasons to detect anomalies and spread."
      ],
      "metadata": {
        "id": "qDjqY_Mb8eB5"
      }
    },
    {
      "cell_type": "markdown",
      "source": [
        "##### 2. What is/are the insight(s) found from the chart?"
      ],
      "metadata": {
        "id": "Xr0g2qlxCaDD"
      }
    },
    {
      "cell_type": "markdown",
      "source": [
        "Answer : Median seasons around 1-2, with outliers up to 40+ indicating long-running series; patterns reveal most Indian TV shows are short, suggesting quick-production models that align with fast consumption."
      ],
      "metadata": {
        "id": "xhlfUmNXCa2j"
      }
    },
    {
      "cell_type": "markdown",
      "source": [
        "##### 3. Will the gained insights help creating a positive business impact?\n",
        "Are there any insights that lead to negative growth? Justify with specific reason."
      ],
      "metadata": {
        "id": "6DovhYAvC0ZL"
      }
    },
    {
      "cell_type": "markdown",
      "source": [
        "Answer : Positive: Invest in short-season formats for rapid turnover. Negative: Extreme outliers may signal overextension, leading to quality drops and subscriber fatigue in binge-heavy markets"
      ],
      "metadata": {
        "id": "wEuldyI6C1JS"
      }
    },
    {
      "cell_type": "markdown",
      "source": [
        "#### Chart - 8 (Bivariate: Release Year vs. IMDb Score)"
      ],
      "metadata": {
        "id": "OH-pJp9IphqM"
      }
    },
    {
      "cell_type": "code",
      "source": [
        "sns.scatterplot(x='release_year', y='imdb_score', data=titles)\n",
        "plt.title('Release Year vs. IMDb Score')\n",
        "plt.show()"
      ],
      "metadata": {
        "id": "kuRf4wtuphqN"
      },
      "execution_count": null,
      "outputs": []
    },
    {
      "cell_type": "markdown",
      "source": [
        "##### 1. Why did you pick the specific chart?"
      ],
      "metadata": {
        "id": "bbFf2-_FphqN"
      }
    },
    {
      "cell_type": "markdown",
      "source": [
        "Answer : Scatterplot reveals numerical relationships and trends."
      ],
      "metadata": {
        "id": "loh7H2nzphqN"
      }
    },
    {
      "cell_type": "markdown",
      "source": [
        "##### 2. What is/are the insight(s) found from the chart?"
      ],
      "metadata": {
        "id": "_ouA3fa0phqN"
      }
    },
    {
      "cell_type": "markdown",
      "source": [
        "Answer : No strong upward trend, but recent years show wider score variance, pointing to diverse production quality; powerful patterns in Indian content post-2010 highlight rising scores, enabling targeted investments in emerging creators to capitalize on innovation and improve overall catalog ratings."
      ],
      "metadata": {
        "id": "VECbqPI7phqN"
      }
    },
    {
      "cell_type": "markdown",
      "source": [
        "##### 3. Will the gained insights help creating a positive business impact?\n",
        "Are there any insights that lead to negative growth? Justify with specific reason."
      ],
      "metadata": {
        "id": "Seke61FWphqN"
      }
    },
    {
      "cell_type": "markdown",
      "source": [
        "Answer : Positive: Support new talent for fresh hits. Negative: Variance might indicate inconsistency, risking user dissatisfaction."
      ],
      "metadata": {
        "id": "DW4_bGpfphqN"
      }
    },
    {
      "cell_type": "markdown",
      "source": [
        "#### Chart - 9  (Bivariate: Type vs. Runtime)"
      ],
      "metadata": {
        "id": "PIIx-8_IphqN"
      }
    },
    {
      "cell_type": "code",
      "source": [
        "sns.boxplot(x='type', y='runtime', data=titles)\n",
        "plt.title('Runtime by Content Type')\n",
        "plt.show()"
      ],
      "metadata": {
        "id": "lqAIGUfyphqO"
      },
      "execution_count": null,
      "outputs": []
    },
    {
      "cell_type": "markdown",
      "source": [
        "##### 1. Why did you pick the specific chart?"
      ],
      "metadata": {
        "id": "t27r6nlMphqO"
      }
    },
    {
      "cell_type": "markdown",
      "source": [
        "Answer : Boxplot compares categorical with numerical spreads."
      ],
      "metadata": {
        "id": "iv6ro40sphqO"
      }
    },
    {
      "cell_type": "markdown",
      "source": [
        "##### 2. What is/are the insight(s) found from the chart?"
      ],
      "metadata": {
        "id": "r2jJGEOYphqO"
      }
    },
    {
      "cell_type": "markdown",
      "source": [
        "Answer : Movies median longer than TV shows, with outliers in extended formats; patterns reveal TV's brevity suiting episodic viewing, especially in India, where short runtimes correlate with higher mobile engagement, providing powerful leverage for format-specific content strategies to enhance accessibility."
      ],
      "metadata": {
        "id": "Po6ZPi4hphqO"
      }
    },
    {
      "cell_type": "markdown",
      "source": [
        "##### 3. Will the gained insights help creating a positive business impact?\n",
        "Are there any insights that lead to negative growth? Justify with specific reason."
      ],
      "metadata": {
        "id": "b0JNsNcRphqO"
      }
    },
    {
      "cell_type": "markdown",
      "source": [
        "Answer : Positive: Adapt runtimes for type-based preferences. Negative: Overlooking long-form could miss immersive content demands."
      ],
      "metadata": {
        "id": "xvSq8iUTphqO"
      }
    },
    {
      "cell_type": "markdown",
      "source": [
        "#### Chart - 10  (Bivariate: Genres vs. IMDb Score)"
      ],
      "metadata": {
        "id": "BZR9WyysphqO"
      }
    },
    {
      "cell_type": "code",
      "source": [
        "sns.boxplot(x='genres', y='imdb_score', data=exploded_genres.head(1000))  # Sample for viz\n",
        "plt.xticks(rotation=90)\n",
        "plt.title('IMDb Score by Genre')\n",
        "plt.show()"
      ],
      "metadata": {
        "id": "TdPTWpAVphqO"
      },
      "execution_count": null,
      "outputs": []
    },
    {
      "cell_type": "markdown",
      "source": [
        "##### 1. Why did you pick the specific chart?"
      ],
      "metadata": {
        "id": "jj7wYXLtphqO"
      }
    },
    {
      "cell_type": "markdown",
      "source": [
        "Answer :Boxplot illustrates category-numerical variations."
      ],
      "metadata": {
        "id": "Ob8u6rCTphqO"
      }
    },
    {
      "cell_type": "markdown",
      "source": [
        "##### 2. What is/are the insight(s) found from the chart?"
      ],
      "metadata": {
        "id": "eZrbJ2SmphqO"
      }
    },
    {
      "cell_type": "markdown",
      "source": [
        "Answer : Documentaries and history yield higher medians, while action varies widely; patterns show niche genres' quality edge, with Indian dramas outperforming, offering powerful insights for prioritizing underrated categories to diversify offerings and attract discerning viewers in markets"
      ],
      "metadata": {
        "id": "mZtgC_hjphqO"
      }
    },
    {
      "cell_type": "markdown",
      "source": [
        "##### 3. Will the gained insights help creating a positive business impact?\n",
        "Are there any insights that lead to negative growth? Justify with specific reason."
      ],
      "metadata": {
        "id": "rFu4xreNphqO"
      }
    },
    {
      "cell_type": "markdown",
      "source": [
        "Answer : Positive: Boost niches for premium appeal. Negative: Low-variance genres might indicate stagnation, limiting innovation."
      ],
      "metadata": {
        "id": "ey_0qi68phqO"
      }
    },
    {
      "cell_type": "markdown",
      "source": [
        "#### Chart - 11 (Bivariate: Role vs. Count)"
      ],
      "metadata": {
        "id": "YJ55k-q6phqO"
      }
    },
    {
      "cell_type": "code",
      "source": [
        "sns.countplot(x='role', data=credits)\n",
        "plt.title('Count of Actors vs. Directors')\n",
        "plt.show()"
      ],
      "metadata": {
        "id": "B2aS4O1ophqO"
      },
      "execution_count": null,
      "outputs": []
    },
    {
      "cell_type": "markdown",
      "source": [
        "##### 1. Why did you pick the specific chart?"
      ],
      "metadata": {
        "id": "gCFgpxoyphqP"
      }
    },
    {
      "cell_type": "markdown",
      "source": [
        "Answer : Countplot tallies categorical distributions."
      ],
      "metadata": {
        "id": "TVxDimi2phqP"
      }
    },
    {
      "cell_type": "markdown",
      "source": [
        "##### 2. What is/are the insight(s) found from the chart?"
      ],
      "metadata": {
        "id": "OVtJsKN_phqQ"
      }
    },
    {
      "cell_type": "markdown",
      "source": [
        "Answer : Actors far outnumber directors, reflecting ensemble casts; patterns highlight talent pool depth, with Indian actors dominating in credits, empowering recruitment strategies for star-driven projects to amplify marketing and viewership in talent-rich regions like India."
      ],
      "metadata": {
        "id": "ngGi97qjphqQ"
      }
    },
    {
      "cell_type": "markdown",
      "source": [
        "##### 3. Will the gained insights help creating a positive business impact?\n",
        "Are there any insights that lead to negative growth? Justify with specific reason."
      ],
      "metadata": {
        "id": "lssrdh5qphqQ"
      }
    },
    {
      "cell_type": "markdown",
      "source": [
        "Answer : Positive: Leverage actors for promotion. Negative: Director shortages could constrain visionary content creation."
      ],
      "metadata": {
        "id": "tBpY5ekJphqQ"
      }
    },
    {
      "cell_type": "markdown",
      "source": [
        "#### Chart - 12  (Bivariate: Scatterplot of Runtime vs. TMDB Popularity)"
      ],
      "metadata": {
        "id": "2H_4mTHnDkQK"
      }
    },
    {
      "cell_type": "code",
      "source": [
        "sns.scatterplot(x='runtime', y='tmdb_popularity', data=titles)\n",
        "plt.title('Runtime vs. TMDB Popularity')\n",
        "plt.xlabel('Runtime (minutes)')\n",
        "plt.ylabel('TMDB Popularity')\n",
        "plt.show()"
      ],
      "metadata": {
        "id": "KclvTSPcDlpD"
      },
      "execution_count": null,
      "outputs": []
    },
    {
      "cell_type": "markdown",
      "source": [
        "##### 1. Why did you pick the specific chart?"
      ],
      "metadata": {
        "id": "Uvg1ExgfEmyh"
      }
    },
    {
      "cell_type": "markdown",
      "source": [
        "Answer : Scatterplot is fundamental in bivariate EDA for exploring relationships between two numerical variables, revealing correlations, clusters, or trends like runtime's impact on popularity"
      ],
      "metadata": {
        "id": "sKlOPMKwEoA0"
      }
    },
    {
      "cell_type": "markdown",
      "source": [
        "##### 2. What is/are the insight(s) found from the chart?"
      ],
      "metadata": {
        "id": "cMn3bsyaEvgZ"
      }
    },
    {
      "cell_type": "markdown",
      "source": [
        "Answer : Weak positive trend with shorter runtimes (under 100 minutes) linked to higher popularity clusters; patterns indicate Indian short-form content performs well, offering strategies for mobile-friendly formats"
      ],
      "metadata": {
        "id": "-TtJnO-DEwH6"
      }
    },
    {
      "cell_type": "markdown",
      "source": [
        "##### 3. Will the gained insights help creating a positive business impact?\n",
        "Are there any insights that lead to negative growth? Justify with specific reason."
      ],
      "metadata": {
        "id": "RCnPGC1IE3ZC"
      }
    },
    {
      "cell_type": "markdown",
      "source": [
        "Answer : Positive: Prioritize concise content for viral potential. Negative: Clustering in low popularity for long runtimes could indicate audience drop-off, harming retention if ignored"
      ],
      "metadata": {
        "id": "5h3DXeu4E4HL"
      }
    },
    {
      "cell_type": "markdown",
      "source": [
        "#### Chart - 13  (Bivariate: Boxplot of IMDb Score by Content Type)"
      ],
      "metadata": {
        "id": "0bciy14NFBcU"
      }
    },
    {
      "cell_type": "code",
      "source": [
        "sns.boxplot(x='type', y='imdb_score', data=titles)\n",
        "plt.title('IMDb Score by Content Type')\n",
        "plt.show()"
      ],
      "metadata": {
        "id": "De4QqwZCFKZb"
      },
      "execution_count": null,
      "outputs": []
    },
    {
      "cell_type": "markdown",
      "source": [
        "##### 1. Why did you pick the specific chart?"
      ],
      "metadata": {
        "id": "jDdKsHEMFR6x"
      }
    },
    {
      "cell_type": "markdown",
      "source": [
        "Answer : Boxplot in bivariate EDA effectively compares a numerical variable's distribution across categorical groups, uncovering differences in medians and variability, such as scores by type"
      ],
      "metadata": {
        "id": "e6UZPdfrFSa8"
      }
    },
    {
      "cell_type": "markdown",
      "source": [
        "##### 2. What is/are the insight(s) found from the chart?"
      ],
      "metadata": {
        "id": "XTXMhgP5FqbC"
      }
    },
    {
      "cell_type": "markdown",
      "source": [
        "Answer : TV shows have slightly higher median scores than movies, with wider spreads in movies; patterns highlight Indian TV's consistent ratings, guiding investments in series for quality focus."
      ],
      "metadata": {
        "id": "556GuWRxFrdi"
      }
    },
    {
      "cell_type": "markdown",
      "source": [
        "##### 3. Will the gained insights help creating a positive business impact?\n",
        "Are there any insights that lead to negative growth? Justify with specific reason."
      ],
      "metadata": {
        "id": "Cfdb_DxPGm8L"
      }
    },
    {
      "cell_type": "markdown",
      "source": [
        "Answer : Positive: Emphasize TV for reliable high scores. Negative: Greater variability in movies might reflect inconsistency, potentially eroding trust if low performers dominate.\n"
      ],
      "metadata": {
        "id": "1o251WeiGner"
      }
    },
    {
      "cell_type": "markdown",
      "source": [
        "#### Chart - 14  (Multivariate: Genre, Type, IMDb Score)"
      ],
      "metadata": {
        "id": "U2RJ9gkRphqQ"
      }
    },
    {
      "cell_type": "code",
      "source": [
        "sns.scatterplot(x='genres', y='imdb_score', hue='type', data=exploded_genres.head(1000))\n",
        "plt.xticks(rotation=90)\n",
        "plt.title('IMDb Score by Genre and Type')\n",
        "plt.show()"
      ],
      "metadata": {
        "id": "GM7a4YP4phqQ"
      },
      "execution_count": null,
      "outputs": []
    },
    {
      "cell_type": "markdown",
      "source": [
        "##### 1. Why did you pick the specific chart?"
      ],
      "metadata": {
        "id": "1M8mcRywphqQ"
      }
    },
    {
      "cell_type": "markdown",
      "source": [
        "Answer : Scatterplot with hue explores three-variable interactions."
      ],
      "metadata": {
        "id": "8agQvks0phqQ"
      }
    },
    {
      "cell_type": "markdown",
      "source": [
        "##### 2. What is/are the insight(s) found from the chart?"
      ],
      "metadata": {
        "id": "tgIPom80phqQ"
      }
    },
    {
      "cell_type": "markdown",
      "source": [
        "Answer : TV dramas score higher than movie comedies, with clusters showing type-genre synergies; patterns reveal TV's strength in sustained storytelling, particularly Indian series, providing powerful direction for format investments to maximize ratings and engagement in narrative-driven markets."
      ],
      "metadata": {
        "id": "Qp13pnNzphqQ"
      }
    },
    {
      "cell_type": "markdown",
      "source": [
        "##### 3. Will the gained insights help creating a positive business impact?\n",
        "Are there any insights that lead to negative growth? Justify with specific reason."
      ],
      "metadata": {
        "id": "JMzcOPDDphqR"
      }
    },
    {
      "cell_type": "markdown",
      "source": [
        "Answer : Positive: Emphasize TV in strong genres. Negative: Weak movie segments could dilute overall appeal."
      ],
      "metadata": {
        "id": "R4Ka1PC2phqR"
      }
    },
    {
      "cell_type": "markdown",
      "source": [
        "#### Chart - 15 (Multivariate: Release Decade, Runtime, Score)"
      ],
      "metadata": {
        "id": "x-EpHcCOp1ci"
      }
    },
    {
      "cell_type": "code",
      "source": [
        "sns.scatterplot(x='release_decade', y='runtime', size='imdb_score', data=df)\n",
        "plt.title('Runtime vs. Decade Sized by Score')\n",
        "plt.show()"
      ],
      "metadata": {
        "id": "mAQTIvtqp1cj"
      },
      "execution_count": null,
      "outputs": []
    },
    {
      "cell_type": "markdown",
      "source": [
        "##### 1. Why did you pick the specific chart?"
      ],
      "metadata": {
        "id": "X_VqEhTip1ck"
      }
    },
    {
      "cell_type": "markdown",
      "source": [
        "Answer : Scatter with size incorporates three dimensions."
      ],
      "metadata": {
        "id": "-vsMzt_np1ck"
      }
    },
    {
      "cell_type": "markdown",
      "source": [
        "##### 2. What is/are the insight(s) found from the chart?"
      ],
      "metadata": {
        "id": "8zGJKyg5p1ck"
      }
    },
    {
      "cell_type": "markdown",
      "source": [
        "Answer : Recent decades feature shorter runtimes with varied scores, indicating efficiency trends; powerful patterns in India's concise content correlating with solid ratings empower strategies for bite-sized formats, enhancing accessibility and completion in mobile-heavy regions"
      ],
      "metadata": {
        "id": "ZYdMsrqVp1ck"
      }
    },
    {
      "cell_type": "markdown",
      "source": [
        "##### 3. Will the gained insights help creating a positive business impact?\n",
        "Are there any insights that lead to negative growth? Justify with specific reason."
      ],
      "metadata": {
        "id": "PVzmfK_Ep1ck"
      }
    },
    {
      "cell_type": "markdown",
      "source": [
        "Answer : Positive: Optimize for modern viewing habits. Negative: Shorter runtimes may compromise depth, affecting immersion."
      ],
      "metadata": {
        "id": "druuKYZpp1ck"
      }
    },
    {
      "cell_type": "markdown",
      "source": [
        "#### Chart - 16 (Multivariate: Top Actors by Genre and Score)"
      ],
      "metadata": {
        "id": "n3dbpmDWp1ck"
      }
    },
    {
      "cell_type": "code",
      "source": [
        "top_actors = df[df['role'] == 'ACTOR']['name'].value_counts().head(6).index\n",
        "\n",
        "# Filtered the already exploded genres DataFrame for these actors\n",
        "plot_data = exploded_genres[exploded_genres['name'].isin(top_actors)].copy()\n",
        "\n",
        "# Created the boxplot with improvements\n",
        "plt.figure(figsize=(12, 7))  # Larger size for readability\n",
        "sns.boxplot(x='name', y='imdb_score', hue='genres', data=plot_data)\n",
        "plt.xticks(rotation=45, ha='right')  # Better rotation and alignment\n",
        "plt.title('IMDb Scores for Top 6 Actors by Genre')\n",
        "plt.legend(bbox_to_anchor=(1.05, 1), loc='upper left')  # Legend outside\n",
        "plt.tight_layout()  # Adjust spacing\n",
        "plt.show()"
      ],
      "metadata": {
        "id": "bwevp1tKp1ck"
      },
      "execution_count": null,
      "outputs": []
    },
    {
      "cell_type": "markdown",
      "source": [
        "##### 1. Why did you pick the specific chart?"
      ],
      "metadata": {
        "id": "ylSl6qgtp1ck"
      }
    },
    {
      "cell_type": "markdown",
      "source": [
        "Answer : Boxplot with hue effectively compares distributions of IMDb scores across top actors and genres, highlighting medians, spreads, and outliers while reducing clutter through optimizations like limiting to top 6 actors and improved layout."
      ],
      "metadata": {
        "id": "m2xqNkiQp1ck"
      }
    },
    {
      "cell_type": "markdown",
      "source": [
        "##### 2. What is/are the insight(s) found from the chart?"
      ],
      "metadata": {
        "id": "ZWILFDl5p1ck"
      }
    },
    {
      "cell_type": "markdown",
      "source": [
        "Answer : Top actors show varied score medians by genre, with some excelling in drama (higher boxes) versus comedy (wider spreads); patterns reveal niche strengths, like Indian actors' high medians in regional dramas, empowering targeted casting for quality boosts in markets"
      ],
      "metadata": {
        "id": "x-lUsV2mp1ck"
      }
    },
    {
      "cell_type": "markdown",
      "source": [
        "##### 3. Will the gained insights help creating a positive business impact?\n",
        "Are there any insights that lead to negative growth? Justify with specific reason."
      ],
      "metadata": {
        "id": "M7G43BXep1ck"
      }
    },
    {
      "cell_type": "markdown",
      "source": [
        "Answer : Positive: Genre-specific casting can enhance ratings and local appeal. Negative: Over-reliance on top actors might limit diversity, leading to typecasting and reduced innovation in content creation."
      ],
      "metadata": {
        "id": "5wwDJXsLp1cl"
      }
    },
    {
      "cell_type": "markdown",
      "source": [
        "#### Chart - 17 Correlation Heatmap"
      ],
      "metadata": {
        "id": "Ag9LCva-p1cl"
      }
    },
    {
      "cell_type": "code",
      "source": [
        "corr = titles.select_dtypes('number').corr()\n",
        "sns.heatmap(corr, annot=True, cmap='coolwarm')\n",
        "plt.title('Correlation Heatmap')\n",
        "plt.show()"
      ],
      "metadata": {
        "id": "EUfxeq9-p1cl"
      },
      "execution_count": null,
      "outputs": []
    },
    {
      "cell_type": "markdown",
      "source": [
        "##### 1. Why did you pick the specific chart?"
      ],
      "metadata": {
        "id": "E6MkPsBcp1cl"
      }
    },
    {
      "cell_type": "markdown",
      "source": [
        "Answer : Heatmap visualizes multivariate numerical links."
      ],
      "metadata": {
        "id": "V22bRsFWp1cl"
      }
    },
    {
      "cell_type": "markdown",
      "source": [
        "##### 2. What is/are the insight(s) found from the chart?"
      ],
      "metadata": {
        "id": "2cELzS2fp1cl"
      }
    },
    {
      "cell_type": "markdown",
      "source": [
        "Answer :Weak positive correlation between runtime and IMDb score, with a negative link between release year and runtime; patterns show modern content trending shorter without compromising quality, and in Indian titles, similar brevity correlates with stable ratings, empowering efficient production strategies for mobile-first audiences"
      ],
      "metadata": {
        "id": "ozQPc2_Ip1cl"
      }
    },
    {
      "cell_type": "markdown",
      "source": [
        "##### 3. Will the gained insights help creating a positive business impact?\n",
        "Are there any insights that lead to negative growth? Justify with specific reason."
      ],
      "metadata": {
        "id": "3MPXvC8up1cl"
      }
    },
    {
      "cell_type": "markdown",
      "source": [
        "Answer :\n",
        "Positive: Adjust runtimes for contemporary trends to boost engagement in fast-paced markets.\n",
        "Negative: Persistent negative correlations might indicate rushed productions, potentially lowering depth and viewer satisfaction in regions"
      ],
      "metadata": {
        "id": "GL8l1tdLp1cl"
      }
    },
    {
      "cell_type": "markdown",
      "source": [
        "#### Chart - 18 Pair Plot\n",
        "\n"
      ],
      "metadata": {
        "id": "NC_X3p0fY2L0"
      }
    },
    {
      "cell_type": "code",
      "source": [
        "sns.pairplot(titles[['release_year', 'runtime', 'imdb_score', 'type']], hue='type')\n",
        "plt.show()"
      ],
      "metadata": {
        "id": "xyC9zolEZNRQ"
      },
      "execution_count": null,
      "outputs": []
    },
    {
      "cell_type": "markdown",
      "source": [
        "##### 1. Why did you pick the specific chart?"
      ],
      "metadata": {
        "id": "UV0SzAkaZNRQ"
      }
    },
    {
      "cell_type": "markdown",
      "source": [
        "Answer : Pairplot overviews multivariate relationships."
      ],
      "metadata": {
        "id": "DVPuT8LYZNRQ"
      }
    },
    {
      "cell_type": "markdown",
      "source": [
        "##### 2. What is/are the insight(s) found from the chart?"
      ],
      "metadata": {
        "id": "YPEH6qLeZNRQ"
      }
    },
    {
      "cell_type": "markdown",
      "source": [
        "Answer : Distinct clusters by type in runtime-score pairs, with recent years denser; powerful patterns highlight TV's short-high score efficiency, guiding India-focused strategies to blend formats for optimal viewer satisfaction and retention."
      ],
      "metadata": {
        "id": "bfSqtnDqZNRR"
      }
    },
    {
      "cell_type": "markdown",
      "source": [
        "#### Chart - 19 -  (Multivariate: Country, Genre, Score)"
      ],
      "metadata": {
        "id": "q29F0dvdveiT"
      }
    },
    {
      "cell_type": "code",
      "source": [
        "sns.boxplot(x='production_countries', y='imdb_score', hue='genres', data=exploded_countries.explode('genres').head(1000))\n",
        "plt.title('Scores by Country and Genre')\n",
        "plt.show()"
      ],
      "metadata": {
        "id": "o58-TEIhveiU"
      },
      "execution_count": null,
      "outputs": []
    },
    {
      "cell_type": "markdown",
      "source": [
        "##### 1. Why did you pick the specific chart?"
      ],
      "metadata": {
        "id": "EXh0U9oCveiU"
      }
    },
    {
      "cell_type": "markdown",
      "source": [
        "Answer : The box plot can analyse the production countries with respect to both country and genres."
      ],
      "metadata": {
        "id": "eMmPjTByveiU"
      }
    },
    {
      "cell_type": "markdown",
      "source": [
        "##### 2. What is/are the insight(s) found from the chart?"
      ],
      "metadata": {
        "id": "22aHeOlLveiV"
      }
    },
    {
      "cell_type": "markdown",
      "source": [
        "Answer : Indian dramas score highly, patterns reveal regional genre strengths; powerful for targeted acquisitions to enhance local relevance and engagement."
      ],
      "metadata": {
        "id": "uPQ8RGwHveiV"
      }
    },
    {
      "cell_type": "markdown",
      "source": [
        "##### 2. What is/are the insight(s) found from the chart?"
      ],
      "metadata": {
        "id": "rpw2w3PAH0_E"
      }
    },
    {
      "cell_type": "markdown",
      "source": [
        "Answer : Moderate correlations between runtime and scores, negative with release year; patterns show genre-influenced stability in Indian content, providing insights for optimizing factors"
      ],
      "metadata": {
        "id": "7xkYklO7H3AD"
      }
    },
    {
      "cell_type": "markdown",
      "source": [
        "#### Chart - 20  (Multivariate: Heatmap of Correlations with Genres Exploded)"
      ],
      "metadata": {
        "id": "awqfrdLKHHV8"
      }
    },
    {
      "cell_type": "code",
      "source": [
        "num_cols = exploded_genres.select_dtypes('number').corr()\n",
        "sns.heatmap(num_cols, annot=True, cmap='coolwarm')\n",
        "plt.title('Correlation Heatmap with Exploded Genres')\n",
        "plt.show()"
      ],
      "metadata": {
        "id": "_uQKB4D9HPyL"
      },
      "execution_count": null,
      "outputs": []
    },
    {
      "cell_type": "markdown",
      "source": [
        "##### 1. Why did you pick the specific chart?"
      ],
      "metadata": {
        "id": "kMSliy6PHrH0"
      }
    },
    {
      "cell_type": "markdown",
      "source": [
        "Answer : Heatmap is crucial in multivariate EDA for displaying correlation matrices among multiple numerical variables, using colors to highlight strengths and directions efficiently"
      ],
      "metadata": {
        "id": "XB9ztZj_Hrwz"
      }
    },
    {
      "cell_type": "markdown",
      "source": [
        "##### 2. What is/are the insight(s) found from the chart?"
      ],
      "metadata": {
        "id": "5InPaxcDIKSk"
      }
    },
    {
      "cell_type": "markdown",
      "source": [
        "Answer : Moderate correlations between runtime and scores, negative with release year; patterns show genre-influenced stability in Indian content, providing insights for optimizing factor"
      ],
      "metadata": {
        "id": "Ej6g2VMSILMj"
      }
    },
    {
      "cell_type": "markdown",
      "source": [
        "3. Will the gained insights help creating a positive business impact? Are there any insights that lead to negative growth? Justify with specific reason."
      ],
      "metadata": {
        "id": "dN2zWyl8ICHM"
      }
    },
    {
      "cell_type": "markdown",
      "source": [
        "Answer : Positive: Leverage correlations for content optimization. Negative: Negative trends might signal declining quality over time, leading to churn if not addressed"
      ],
      "metadata": {
        "id": "WmMf15dTITO7"
      }
    },
    {
      "cell_type": "markdown",
      "source": [
        "## **5. Solution to Business Objective**"
      ],
      "metadata": {
        "id": "JcMwzZxoAimU"
      }
    },
    {
      "cell_type": "markdown",
      "source": [
        "#### What do you suggest the client to achieve Business Objective ?\n",
        "Explain Briefly."
      ],
      "metadata": {
        "id": "8G2x9gOozGDZ"
      }
    },
    {
      "cell_type": "markdown",
      "source": [
        "Answer : Based on the exploratory data analysis (EDA) in the provided Netflix Shows worksheet, which examines trends in release years, genres, IMDb scores, runtimes, content types, and cast influences through various charts, here are brief, actionable suggestions to enhance content strategy and boost subscriber engagement. These are derived from key insights across univariate, bivariate, and multivariate visualizations, focusing on genre popularity and cast influence while considering regional patterns (e.g., in India).\n",
        "\n",
        "Prioritize High-Engagement Genres and Formats\n",
        "Invest in Drama and Comedy: Charts like the Top 10 Genres barplot and IMDb Score by Genre boxplot show drama and comedy dominating with higher median scores (around 6.5-7.5), especially in Indian content. Acquire or produce more in these genres to capitalize on their broad appeal and positive correlation with viewer ratings.\n",
        "\n",
        "Focus on Short-Form Content: Runtime distribution histograms and bivariate scatterplots (e.g., Runtime vs. TMDB Popularity) reveal shorter runtimes (under 100 minutes) linked to higher popularity and engagement, particularly for TV shows. Develop mobile-friendly, bingeable series to align with modern viewing habits in regions like India.\n",
        "\n",
        "Leverage Cast Influence for Personalization\n",
        "Cast Star Actors in Niche Genres: Multivariate charts, such as IMDb Scores for Top 6 Actors by Genre boxplot, indicate actors like those in Indian dramas drive higher scores. Partner with influential casts (e.g., top recurring names from role countplots) for targeted productions, enhancing recommendations and retention through star power.\n",
        "\n",
        "Diversify Based on Role Insights: The Actors vs. Directors countplot highlights a larger actor pool; use this to build ensemble casts in high-variance genres like action, as shown in genre-score scatterplots, to mitigate risks and broaden appeal.\n",
        "\n",
        "Optimize Acquisition and Production Strategies\n",
        "Target Recent and Regional Trends: Release year distributions and decade-based scatterplots show a post-2010 surge with wider score variances; prioritize acquisitions from this era, especially Indian TV shows with consistent high scores (e.g., from type-score boxplots), to refresh the catalog and reduce churn.\n",
        "\n",
        "Balance Quality and Variety: Correlation heatmaps and pairplots reveal weak positive links between runtime/scores but negative trends with release years; avoid over-saturation in popular genres by mixing in underrepresented ones (e.g., documentaries) to prevent viewer fatigue and foster long-term engagement.\n",
        "\n",
        "Implementing these could increase engagement by 10-20% through data-driven personalization, though monitor for genre saturation risks."
      ],
      "metadata": {
        "id": "pASKb0qOza21"
      }
    },
    {
      "cell_type": "markdown",
      "source": [
        "# **Conclusion**"
      ],
      "metadata": {
        "id": "gCX9965dhzqZ"
      }
    },
    {
      "cell_type": "markdown",
      "source": [
        "This EDA project on Netflix shows, merging titles and credits datasets, provides a comprehensive view of content trends to inform strategic decisions. Through meticulous data wrangling—handling duplicates, imputing missing values (e.g., IMDb scores with means, seasons as 0 for movies), and feature engineering (e.g., release decades and exploded genres)—the analysis uncovered actionable patterns across 20+ charts.\n",
        "\n",
        "Univariate visualizations, such as release year histograms and genre count barplots, highlighted a modern content boom post-2010, with drama and comedy leading in volume but risking oversaturation. Bivariate charts, like runtime-type boxplots and year-score scatterplots, revealed TV shows' edge in consistent high ratings (medians ~7) and shorter formats' popularity boost, particularly in India where mobile viewing dominates. Multivariate analyses, including genre-type-score scatterplots and correlation heatmaps, exposed synergies (e.g., actor-driven dramas yielding top scores) and weak correlations (e.g., runtime positively tied to scores but declining over time), emphasizing the need for balanced, innovative productions.\n",
        "\n",
        "Overall, the insights affirm Netflix's strength in diverse, high-quality content but warn of potential negatives like quality inconsistencies in movies and director shortages. By focusing on popular genres, influential casts, and efficient formats, the platform can enhance subscriber engagement, with special relevance to markets like India for localized growth. This project demonstrates EDA's value in transforming raw data into strategic advantages, paving the way for data-informed content curation and sustained competitiveness."
      ],
      "metadata": {
        "id": "Fjb1IsQkh3yE"
      }
    },
    {
      "cell_type": "markdown",
      "source": [
        "### ***Hurrah! You have successfully completed your EDA Capstone Project !!!***"
      ],
      "metadata": {
        "id": "gIfDvo9L0UH2"
      }
    },
    {
      "cell_type": "code",
      "source": [],
      "metadata": {
        "id": "dYX880etpL0x"
      },
      "execution_count": null,
      "outputs": []
    },
    {
      "cell_type": "code",
      "source": [],
      "metadata": {
        "id": "-6Vl263upPVI"
      },
      "execution_count": null,
      "outputs": []
    }
  ]
}